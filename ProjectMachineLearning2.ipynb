{
 "cells": [
  {
   "cell_type": "markdown",
   "id": "f9705fd9",
   "metadata": {},
   "source": [
    "# 🏅 Predicting Olympic Medals using Linear Regression\n",
    "\n",
    "This project builds a **Machine Learning model** to predict the number of medals won by a country in the Olympics.\n",
    "\n",
    "We use the dataset `teams.csv` which contains information about Olympic teams such as:\n",
    "- Number of athletes\n",
    "- Average age\n",
    "- Previous medals\n",
    "- Medals won in the current Olympics\n",
    "\n",
    "We will:\n",
    "1. Load and explore the dataset\n",
    "2. Clean missing values\n",
    "3. Split the data into **training** and **testing** sets (time-based split)\n",
    "4. Train a **Linear Regression model**\n",
    "5. Evaluate performance using **MAE** and **R²**\n",
    "6. Analyze prediction errors\n"
   ]
  },
  {
   "cell_type": "code",
   "execution_count": null,
   "id": "9081cd4e",
   "metadata": {},
   "outputs": [],
   "source": [
    "# === 1) Import libraries ===\n",
    "import pandas as pd\n",
    "import numpy as np\n",
    "import seaborn as sns\n",
    "import matplotlib.pyplot as plt\n",
    "from sklearn.linear_model import LinearRegression\n",
    "from sklearn.metrics import mean_absolute_error, r2_score\n"
   ]
  },
  {
   "cell_type": "markdown",
   "id": "64be20e9",
   "metadata": {},
   "source": [
    "## 2. Load and explore the dataset"
   ]
  },
  {
   "cell_type": "code",
   "execution_count": 2,
   "id": "12585053",
   "metadata": {},
   "outputs": [
    {
     "name": "stdout",
     "output_type": "stream",
     "text": [
      "Dataset shape: (2144, 7)\n"
     ]
    },
    {
     "data": {
      "text/html": [
       "<div>\n",
       "<style scoped>\n",
       "    .dataframe tbody tr th:only-of-type {\n",
       "        vertical-align: middle;\n",
       "    }\n",
       "\n",
       "    .dataframe tbody tr th {\n",
       "        vertical-align: top;\n",
       "    }\n",
       "\n",
       "    .dataframe thead th {\n",
       "        text-align: right;\n",
       "    }\n",
       "</style>\n",
       "<table border=\"1\" class=\"dataframe\">\n",
       "  <thead>\n",
       "    <tr style=\"text-align: right;\">\n",
       "      <th></th>\n",
       "      <th>team</th>\n",
       "      <th>country</th>\n",
       "      <th>year</th>\n",
       "      <th>athletes</th>\n",
       "      <th>age</th>\n",
       "      <th>prev_medals</th>\n",
       "      <th>medals</th>\n",
       "    </tr>\n",
       "  </thead>\n",
       "  <tbody>\n",
       "    <tr>\n",
       "      <th>0</th>\n",
       "      <td>AFG</td>\n",
       "      <td>Afghanistan</td>\n",
       "      <td>1964</td>\n",
       "      <td>8</td>\n",
       "      <td>22.0</td>\n",
       "      <td>0.0</td>\n",
       "      <td>0</td>\n",
       "    </tr>\n",
       "    <tr>\n",
       "      <th>1</th>\n",
       "      <td>AFG</td>\n",
       "      <td>Afghanistan</td>\n",
       "      <td>1968</td>\n",
       "      <td>5</td>\n",
       "      <td>23.2</td>\n",
       "      <td>0.0</td>\n",
       "      <td>0</td>\n",
       "    </tr>\n",
       "    <tr>\n",
       "      <th>2</th>\n",
       "      <td>AFG</td>\n",
       "      <td>Afghanistan</td>\n",
       "      <td>1972</td>\n",
       "      <td>8</td>\n",
       "      <td>29.0</td>\n",
       "      <td>0.0</td>\n",
       "      <td>0</td>\n",
       "    </tr>\n",
       "    <tr>\n",
       "      <th>3</th>\n",
       "      <td>AFG</td>\n",
       "      <td>Afghanistan</td>\n",
       "      <td>1980</td>\n",
       "      <td>11</td>\n",
       "      <td>23.6</td>\n",
       "      <td>0.0</td>\n",
       "      <td>0</td>\n",
       "    </tr>\n",
       "    <tr>\n",
       "      <th>4</th>\n",
       "      <td>AFG</td>\n",
       "      <td>Afghanistan</td>\n",
       "      <td>2004</td>\n",
       "      <td>5</td>\n",
       "      <td>18.6</td>\n",
       "      <td>0.0</td>\n",
       "      <td>0</td>\n",
       "    </tr>\n",
       "  </tbody>\n",
       "</table>\n",
       "</div>"
      ],
      "text/plain": [
       "  team      country  year  athletes   age  prev_medals  medals\n",
       "0  AFG  Afghanistan  1964         8  22.0          0.0       0\n",
       "1  AFG  Afghanistan  1968         5  23.2          0.0       0\n",
       "2  AFG  Afghanistan  1972         8  29.0          0.0       0\n",
       "3  AFG  Afghanistan  1980        11  23.6          0.0       0\n",
       "4  AFG  Afghanistan  2004         5  18.6          0.0       0"
      ]
     },
     "execution_count": 2,
     "metadata": {},
     "output_type": "execute_result"
    }
   ],
   "source": [
    "teams = pd.read_csv(r\"C:\\Users\\User\\Documents\\python machine learning\\teams.csv\")\n",
    "teams = teams[[\"team\", \"country\", \"year\", \"athletes\", \"age\", \"prev_medals\", \"medals\"]]\n",
    "\n",
    "print(\"Dataset shape:\", teams.shape)\n",
    "teams.head()"
   ]
  },
  {
   "cell_type": "markdown",
   "id": "bdabed75",
   "metadata": {},
   "source": [
    "### Correlations with target variable (`medals`)"
   ]
  },
  {
   "cell_type": "code",
   "execution_count": 3,
   "id": "5c3560a4",
   "metadata": {},
   "outputs": [
    {
     "name": "stdout",
     "output_type": "stream",
     "text": [
      "medals         1.000000\n",
      "prev_medals    0.920048\n",
      "athletes       0.840817\n",
      "age            0.025096\n",
      "year          -0.021603\n",
      "Name: medals, dtype: float64\n"
     ]
    },
    {
     "data": {
      "image/png": "[encoded data removed]",
      "text/plain": [
       "<Figure size 500x500 with 1 Axes>"
      ]
     },
     "metadata": {},
     "output_type": "display_data"
    },
    {
     "data": {
      "image/png": "[encoded data removed]",
      "text/plain": [
       "<Figure size 500x500 with 1 Axes>"
      ]
     },
     "metadata": {},
     "output_type": "display_data"
    },
    {
     "data": {
      "image/png": "[encoded data removed]",
      "text/plain": [
       "<Figure size 640x480 with 1 Axes>"
      ]
     },
     "metadata": {},
     "output_type": "display_data"
    }
   ],
   "source": [
    "corr = teams.corr(numeric_only=True)[\"medals\"].sort_values(ascending=False)\n",
    "print(corr)\n",
    "\n",
    "# Plot correlations\n",
    "sns.lmplot(x='athletes', y='medals', data=teams, fit_reg=True, ci=None)\n",
    "plt.title(\"Athletes vs Medals\")\n",
    "plt.show()\n",
    "\n",
    "sns.lmplot(x='age', y='medals', data=teams, fit_reg=True, ci=None)\n",
    "plt.title(\"Age vs Medals\")\n",
    "plt.show()\n",
    "\n",
    "teams[\"medals\"].plot.hist(bins=30, edgecolor='black')\n",
    "plt.title(\"Distribution of Medals\")\n",
    "plt.show()"
   ]
  },
  {
   "cell_type": "markdown",
   "id": "3a2f05c6",
   "metadata": {},
   "source": [
    "## 3. Handle Missing Values"
   ]
  },
  {
   "cell_type": "code",
   "execution_count": 4,
   "id": "a9ce42a9",
   "metadata": {},
   "outputs": [
    {
     "name": "stdout",
     "output_type": "stream",
     "text": [
      "Rows with missing values: 130\n",
      "Shape after cleaning: (2014, 7)\n"
     ]
    }
   ],
   "source": [
    "print(\"Rows with missing values:\", teams.isnull().any(axis=1).sum())\n",
    "teams = teams.dropna()\n",
    "print(\"Shape after cleaning:\", teams.shape)"
   ]
  },
  {
   "cell_type": "markdown",
   "id": "e9f86866",
   "metadata": {},
   "source": [
    "## 4. Train-Test Split (time-based)\n",
    "- Training set: years < 2012\n",
    "- Testing set: years ≥ 2012"
   ]
  },
  {
   "cell_type": "code",
   "execution_count": 5,
   "id": "f236dd7f",
   "metadata": {},
   "outputs": [
    {
     "name": "stdout",
     "output_type": "stream",
     "text": [
      "Train shape: (1609, 7) Test shape: (405, 7)\n"
     ]
    }
   ],
   "source": [
    "train = teams[teams[\"year\"] < 2012].copy()\n",
    "test  = teams[teams[\"year\"] >= 2012].copy()\n",
    "print(\"Train shape:\", train.shape, \"Test shape:\", test.shape)"
   ]
  },
  {
   "cell_type": "markdown",
   "id": "3a83788d",
   "metadata": {},
   "source": [
    "## 5. Train Linear Regression Model"
   ]
  },
  {
   "cell_type": "code",
   "execution_count": 6,
   "id": "557d9a5c",
   "metadata": {},
   "outputs": [
    {
     "name": "stdout",
     "output_type": "stream",
     "text": [
      "Model coefficients:\n",
      "  athletes    : 0.0717\n",
      "  prev_medals : 0.7506\n",
      "Intercept     : -2.1420694641161138\n"
     ]
    }
   ],
   "source": [
    "predictors = [\"athletes\", \"prev_medals\"]\n",
    "reg = LinearRegression()\n",
    "reg.fit(train[predictors], train[\"medals\"])\n",
    "\n",
    "print(\"Model coefficients:\")\n",
    "for name, coef in zip(predictors, reg.coef_):\n",
    "    print(f\"  {name:12s}: {coef:.4f}\")\n",
    "print(\"Intercept     :\", reg.intercept_)"
   ]
  },
  {
   "cell_type": "markdown",
   "id": "bc7d8377",
   "metadata": {},
   "source": [
    "## 6. Predictions on Test Data"
   ]
  },
  {
   "cell_type": "code",
   "execution_count": 7,
   "id": "8f78a79d",
   "metadata": {},
   "outputs": [
    {
     "data": {
      "text/html": [
       "<div>\n",
       "<style scoped>\n",
       "    .dataframe tbody tr th:only-of-type {\n",
       "        vertical-align: middle;\n",
       "    }\n",
       "\n",
       "    .dataframe tbody tr th {\n",
       "        vertical-align: top;\n",
       "    }\n",
       "\n",
       "    .dataframe thead th {\n",
       "        text-align: right;\n",
       "    }\n",
       "</style>\n",
       "<table border=\"1\" class=\"dataframe\">\n",
       "  <thead>\n",
       "    <tr style=\"text-align: right;\">\n",
       "      <th></th>\n",
       "      <th>team</th>\n",
       "      <th>year</th>\n",
       "      <th>athletes</th>\n",
       "      <th>prev_medals</th>\n",
       "      <th>medals</th>\n",
       "      <th>predictions</th>\n",
       "    </tr>\n",
       "  </thead>\n",
       "  <tbody>\n",
       "    <tr>\n",
       "      <th>6</th>\n",
       "      <td>AFG</td>\n",
       "      <td>2012</td>\n",
       "      <td>6</td>\n",
       "      <td>1.0</td>\n",
       "      <td>1</td>\n",
       "      <td>0.0</td>\n",
       "    </tr>\n",
       "    <tr>\n",
       "      <th>7</th>\n",
       "      <td>AFG</td>\n",
       "      <td>2016</td>\n",
       "      <td>3</td>\n",
       "      <td>1.0</td>\n",
       "      <td>0</td>\n",
       "      <td>0.0</td>\n",
       "    </tr>\n",
       "    <tr>\n",
       "      <th>24</th>\n",
       "      <td>ALB</td>\n",
       "      <td>2012</td>\n",
       "      <td>10</td>\n",
       "      <td>0.0</td>\n",
       "      <td>0</td>\n",
       "      <td>0.0</td>\n",
       "    </tr>\n",
       "    <tr>\n",
       "      <th>25</th>\n",
       "      <td>ALB</td>\n",
       "      <td>2016</td>\n",
       "      <td>6</td>\n",
       "      <td>0.0</td>\n",
       "      <td>0</td>\n",
       "      <td>0.0</td>\n",
       "    </tr>\n",
       "    <tr>\n",
       "      <th>37</th>\n",
       "      <td>ALG</td>\n",
       "      <td>2012</td>\n",
       "      <td>39</td>\n",
       "      <td>2.0</td>\n",
       "      <td>1</td>\n",
       "      <td>2.0</td>\n",
       "    </tr>\n",
       "    <tr>\n",
       "      <th>38</th>\n",
       "      <td>ALG</td>\n",
       "      <td>2016</td>\n",
       "      <td>74</td>\n",
       "      <td>1.0</td>\n",
       "      <td>2</td>\n",
       "      <td>4.0</td>\n",
       "    </tr>\n",
       "    <tr>\n",
       "      <th>48</th>\n",
       "      <td>AND</td>\n",
       "      <td>2012</td>\n",
       "      <td>6</td>\n",
       "      <td>0.0</td>\n",
       "      <td>0</td>\n",
       "      <td>0.0</td>\n",
       "    </tr>\n",
       "    <tr>\n",
       "      <th>49</th>\n",
       "      <td>AND</td>\n",
       "      <td>2016</td>\n",
       "      <td>4</td>\n",
       "      <td>0.0</td>\n",
       "      <td>0</td>\n",
       "      <td>0.0</td>\n",
       "    </tr>\n",
       "    <tr>\n",
       "      <th>57</th>\n",
       "      <td>ANG</td>\n",
       "      <td>2012</td>\n",
       "      <td>35</td>\n",
       "      <td>0.0</td>\n",
       "      <td>0</td>\n",
       "      <td>0.0</td>\n",
       "    </tr>\n",
       "    <tr>\n",
       "      <th>58</th>\n",
       "      <td>ANG</td>\n",
       "      <td>2016</td>\n",
       "      <td>26</td>\n",
       "      <td>0.0</td>\n",
       "      <td>0</td>\n",
       "      <td>0.0</td>\n",
       "    </tr>\n",
       "  </tbody>\n",
       "</table>\n",
       "</div>"
      ],
      "text/plain": [
       "   team  year  athletes  prev_medals  medals  predictions\n",
       "6   AFG  2012         6          1.0       1          0.0\n",
       "7   AFG  2016         3          1.0       0          0.0\n",
       "24  ALB  2012        10          0.0       0          0.0\n",
       "25  ALB  2016         6          0.0       0          0.0\n",
       "37  ALG  2012        39          2.0       1          2.0\n",
       "38  ALG  2016        74          1.0       2          4.0\n",
       "48  AND  2012         6          0.0       0          0.0\n",
       "49  AND  2016         4          0.0       0          0.0\n",
       "57  ANG  2012        35          0.0       0          0.0\n",
       "58  ANG  2016        26          0.0       0          0.0"
      ]
     },
     "execution_count": 7,
     "metadata": {},
     "output_type": "execute_result"
    }
   ],
   "source": [
    "pred = reg.predict(test[predictors])\n",
    "\n",
    "# Fix negative values and round to integers\n",
    "pred_fixed = np.maximum(pred, 0).round()\n",
    "test[\"predictions\"] = pred_fixed\n",
    "\n",
    "test[[\"team\", \"year\", \"athletes\", \"prev_medals\", \"medals\", \"predictions\"]].head(10)"
   ]
  },
  {
   "cell_type": "markdown",
   "id": "1b001e91",
   "metadata": {},
   "source": [
    "## 7. Model Evaluation (MAE, R²)"
   ]
  },
  {
   "cell_type": "code",
   "execution_count": 8,
   "id": "e1ffb9fe",
   "metadata": {},
   "outputs": [
    {
     "name": "stdout",
     "output_type": "stream",
     "text": [
      "MAE: 3.2987654320987656\n",
      "R² : 0.9210409414691608\n"
     ]
    }
   ],
   "source": [
    "mae = mean_absolute_error(test[\"medals\"], pred_fixed)\n",
    "r2  = r2_score(test[\"medals\"], pred_fixed)\n",
    "print(\"MAE:\", mae)\n",
    "print(\"R² :\", r2)"
   ]
  },
  {
   "cell_type": "markdown",
   "id": "4b721a31",
   "metadata": {},
   "source": [
    "## 8. Country Examples (USA, India)"
   ]
  },
  {
   "cell_type": "code",
   "execution_count": 9,
   "id": "ea8be4c4",
   "metadata": {},
   "outputs": [
    {
     "name": "stdout",
     "output_type": "stream",
     "text": [
      "\n",
      "Results for USA:\n"
     ]
    },
    {
     "data": {
      "text/html": [
       "<div>\n",
       "<style scoped>\n",
       "    .dataframe tbody tr th:only-of-type {\n",
       "        vertical-align: middle;\n",
       "    }\n",
       "\n",
       "    .dataframe tbody tr th {\n",
       "        vertical-align: top;\n",
       "    }\n",
       "\n",
       "    .dataframe thead th {\n",
       "        text-align: right;\n",
       "    }\n",
       "</style>\n",
       "<table border=\"1\" class=\"dataframe\">\n",
       "  <thead>\n",
       "    <tr style=\"text-align: right;\">\n",
       "      <th></th>\n",
       "      <th>year</th>\n",
       "      <th>athletes</th>\n",
       "      <th>prev_medals</th>\n",
       "      <th>medals</th>\n",
       "      <th>predictions</th>\n",
       "    </tr>\n",
       "  </thead>\n",
       "  <tbody>\n",
       "    <tr>\n",
       "      <th>2053</th>\n",
       "      <td>2012</td>\n",
       "      <td>689</td>\n",
       "      <td>317.0</td>\n",
       "      <td>248</td>\n",
       "      <td>285.0</td>\n",
       "    </tr>\n",
       "    <tr>\n",
       "      <th>2054</th>\n",
       "      <td>2016</td>\n",
       "      <td>719</td>\n",
       "      <td>248.0</td>\n",
       "      <td>264</td>\n",
       "      <td>236.0</td>\n",
       "    </tr>\n",
       "  </tbody>\n",
       "</table>\n",
       "</div>"
      ],
      "text/plain": [
       "      year  athletes  prev_medals  medals  predictions\n",
       "2053  2012       689        317.0     248        285.0\n",
       "2054  2016       719        248.0     264        236.0"
      ]
     },
     "metadata": {},
     "output_type": "display_data"
    },
    {
     "name": "stdout",
     "output_type": "stream",
     "text": [
      "\n",
      "Results for IND:\n"
     ]
    },
    {
     "data": {
      "text/html": [
       "<div>\n",
       "<style scoped>\n",
       "    .dataframe tbody tr th:only-of-type {\n",
       "        vertical-align: middle;\n",
       "    }\n",
       "\n",
       "    .dataframe tbody tr th {\n",
       "        vertical-align: top;\n",
       "    }\n",
       "\n",
       "    .dataframe thead th {\n",
       "        text-align: right;\n",
       "    }\n",
       "</style>\n",
       "<table border=\"1\" class=\"dataframe\">\n",
       "  <thead>\n",
       "    <tr style=\"text-align: right;\">\n",
       "      <th></th>\n",
       "      <th>year</th>\n",
       "      <th>athletes</th>\n",
       "      <th>prev_medals</th>\n",
       "      <th>medals</th>\n",
       "      <th>predictions</th>\n",
       "    </tr>\n",
       "  </thead>\n",
       "  <tbody>\n",
       "    <tr>\n",
       "      <th>907</th>\n",
       "      <td>2012</td>\n",
       "      <td>95</td>\n",
       "      <td>3.0</td>\n",
       "      <td>6</td>\n",
       "      <td>7.0</td>\n",
       "    </tr>\n",
       "    <tr>\n",
       "      <th>908</th>\n",
       "      <td>2016</td>\n",
       "      <td>130</td>\n",
       "      <td>6.0</td>\n",
       "      <td>2</td>\n",
       "      <td>12.0</td>\n",
       "    </tr>\n",
       "  </tbody>\n",
       "</table>\n",
       "</div>"
      ],
      "text/plain": [
       "     year  athletes  prev_medals  medals  predictions\n",
       "907  2012        95          3.0       6          7.0\n",
       "908  2016       130          6.0       2         12.0"
      ]
     },
     "metadata": {},
     "output_type": "display_data"
    }
   ],
   "source": [
    "for code in [\"USA\", \"IND\"]:\n",
    "    sample = test[test[\"team\"] == code][[\"year\",\"athletes\",\"prev_medals\",\"medals\",\"predictions\"]]\n",
    "    if not sample.empty:\n",
    "        print(f\"\\nResults for {code}:\")\n",
    "        display(sample.sort_values(\"year\"))"
   ]
  },
  {
   "cell_type": "markdown",
   "id": "2d0126af",
   "metadata": {},
   "source": [
    "## 9. Error Analysis per Team"
   ]
  },
  {
   "cell_type": "code",
   "execution_count": 13,
   "id": "38ea79d9",
   "metadata": {},
   "outputs": [
    {
     "data": {
      "text/plain": [
       "team\n",
       "FRA    0.024289\n",
       "CAN    0.050844\n",
       "NZL    0.071349\n",
       "RUS    0.081841\n",
       "ITA    0.119537\n",
       "         ...   \n",
       "PHI    3.563248\n",
       "JOR    4.065175\n",
       "BDI    4.136878\n",
       "AUT    4.257950\n",
       "NIG    4.423693\n",
       "Name: medals, Length: 97, dtype: float64"
      ]
     },
     "execution_count": 13,
     "metadata": {},
     "output_type": "execute_result"
    },
    {
     "data": {
      "image/png": "[encoded data removed]",
      "text/plain": [
       "<Figure size 640x480 with 1 Axes>"
      ]
     },
     "metadata": {},
     "output_type": "display_data"
    }
   ],
   "source": [
    "errors = (test[\"medals\"] - pred).abs()\n",
    "error_by_team = errors.groupby(test[\"team\"]).mean()\n",
    "medals_by_team = test[\"medals\"].groupby(test[\"team\"]).mean()\n",
    "error_ratio = error_by_team / medals_by_team\n",
    "error_ratio = error_ratio[np.isfinite(error_ratio)]\n",
    "error_ratio.plot.hist()\n",
    "error_ratio.sort_values()"
   ]
  },
  {
   "cell_type": "markdown",
   "id": "d87de819",
   "metadata": {},
   "source": [
    "# ✅ Conclusion\n",
    "- The model uses **athletes** and **previous medals** to predict Olympic medals.\n",
    "- It achieves an **MAE of ~3 medals** on the test set.\n",
    "- The coefficient for `prev_medals` is much stronger than for `athletes`, which makes sense: past performance is a strong predictor.\n",
    "- Limitations: Linear regression may output negative or fractional predictions (we corrected that by clipping & rounding). Other models like **Poisson Regression** or **Gradient Boosting** could be tested.\n",
    "\n",
    "This notebook provides a complete pipeline: from raw data → preprocessing → modeling → evaluation → error analysis."
   ]
  }
 ],
 "metadata": {
  "kernelspec": {
   "display_name": "Python 3 (ipykernel)",
   "language": "python",
   "name": "python3"
  },
  "language_info": {
   "codemirror_mode": {
    "name": "ipython",
    "version": 3
   },
   "file_extension": ".py",
   "mimetype": "text/x-python",
   "name": "python",
   "nbconvert_exporter": "python",
   "pygments_lexer": "ipython3",
   "version": "3.13.5"
  }
 },
 "nbformat": 4,
 "nbformat_minor": 5
}
